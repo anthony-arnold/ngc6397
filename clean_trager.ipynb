{
 "cells": [
  {
   "cell_type": "code",
   "execution_count": 62,
   "id": "b748a1ff-0c86-42de-b641-d0bab6facb19",
   "metadata": {},
   "outputs": [
    {
     "data": {
      "text/plain": [
       "20"
      ]
     },
     "execution_count": 62,
     "metadata": {},
     "output_type": "execute_result"
    }
   ],
   "source": [
    "import numpy as np\n",
    "\n",
    "\n",
    "trager = np.loadtxt('ngc6397_trager.dat')\n",
    "trager = trager[(np.abs(trager[:,3]) < 1) & (trager[:,0] >= 1.7) & (trager[:,0] < 2.6)]\n",
    "groups = np.split(trager, np.unique(trager[:,0], return_index=True)[1][1:])\n",
    "maxerr = [np.abs(a[:,3]).argmax(axis=0) for a in groups]\n",
    "trager = np.array([g[m] for g,m in zip(groups, maxerr)])\n",
    "\n",
    "\n",
    "rem = [(trager[1:,0] - trager[:-1,0]) < 0.03]\n",
    "while np.any(rem):\n",
    "    i = 1 + np.argmax(rem)\n",
    "    trager = np.delete(trager, i, axis=0)\n",
    "    rem = [(trager[1:,0] - trager[:-1,0]) < 0.03]\n",
    "\n",
    "len(trager)\n"
   ]
  },
  {
   "cell_type": "code",
   "execution_count": null,
   "id": "53fd0f59-a10c-4493-bd64-70540cdf3888",
   "metadata": {},
   "outputs": [],
   "source": []
  },
  {
   "cell_type": "code",
   "execution_count": null,
   "id": "e5f28a11-11ab-40a0-8fb3-a79f8c7ff909",
   "metadata": {},
   "outputs": [],
   "source": []
  }
 ],
 "metadata": {
  "kernelspec": {
   "display_name": "Python 3 (ipykernel)",
   "language": "python",
   "name": "python3"
  },
  "language_info": {
   "codemirror_mode": {
    "name": "ipython",
    "version": 3
   },
   "file_extension": ".py",
   "mimetype": "text/x-python",
   "name": "python",
   "nbconvert_exporter": "python",
   "pygments_lexer": "ipython3",
   "version": "3.12.7"
  }
 },
 "nbformat": 4,
 "nbformat_minor": 5
}
