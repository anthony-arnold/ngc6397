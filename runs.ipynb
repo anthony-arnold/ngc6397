{
 "cells": [
  {
   "cell_type": "code",
   "execution_count": 10,
   "id": "241e0294-298a-4dd0-877b-0a4a582aa260",
   "metadata": {},
   "outputs": [
    {
     "data": {
      "text/html": [
       "<table border=\"1\" class=\"dataframe\">\n",
       "  <thead>\n",
       "    <tr style=\"text-align: right;\">\n",
       "      <th>N</th>\n",
       "      <th>M_0</th>\n",
       "      <th>R_0</th>\n",
       "      <th>M_t</th>\n",
       "      <th>R_t</th>\n",
       "      <th>T_tot</th>\n",
       "    </tr>\n",
       "  </thead>\n",
       "  <tbody>\n",
       "    <tr>\n",
       "      <td>144765</td>\n",
       "      <td>85202.2167</td>\n",
       "      <td>3.9029</td>\n",
       "      <td>83457.9644</td>\n",
       "      <td>4.2970</td>\n",
       "      <td>4000.0284</td>\n",
       "    </tr>\n",
       "    <tr>\n",
       "      <td>170000</td>\n",
       "      <td>96285.1100</td>\n",
       "      <td>3.5381</td>\n",
       "      <td>96285.1100</td>\n",
       "      <td>3.7361</td>\n",
       "      <td>4000.0217</td>\n",
       "    </tr>\n",
       "    <tr>\n",
       "      <td>180000</td>\n",
       "      <td>101848.3200</td>\n",
       "      <td>4.0000</td>\n",
       "      <td>101848.3200</td>\n",
       "      <td>7.1952</td>\n",
       "      <td>8000.0447</td>\n",
       "    </tr>\n",
       "    <tr>\n",
       "      <td>200000</td>\n",
       "      <td>117681.3124</td>\n",
       "      <td>4.2894</td>\n",
       "      <td>115288.8383</td>\n",
       "      <td>4.6577</td>\n",
       "      <td>4000.0177</td>\n",
       "    </tr>\n",
       "    <tr>\n",
       "      <td>220000</td>\n",
       "      <td>124481.2800</td>\n",
       "      <td>4.0001</td>\n",
       "      <td>124481.2800</td>\n",
       "      <td>7.8615</td>\n",
       "      <td>8000.0399</td>\n",
       "    </tr>\n",
       "    <tr>\n",
       "      <td>220000</td>\n",
       "      <td>125489.1000</td>\n",
       "      <td>3.9997</td>\n",
       "      <td>125489.1000</td>\n",
       "      <td>4.1814</td>\n",
       "      <td>4000.0135</td>\n",
       "    </tr>\n",
       "    <tr>\n",
       "      <td>220000</td>\n",
       "      <td>125489.1000</td>\n",
       "      <td>3.9997</td>\n",
       "      <td>125489.1000</td>\n",
       "      <td>4.3964</td>\n",
       "      <td>8000.0481</td>\n",
       "    </tr>\n",
       "    <tr>\n",
       "      <td>273985</td>\n",
       "      <td>128220.5962</td>\n",
       "      <td>5.5697</td>\n",
       "      <td>128220.5962</td>\n",
       "      <td>5.8657</td>\n",
       "      <td>4000.0265</td>\n",
       "    </tr>\n",
       "    <tr>\n",
       "      <td>273985</td>\n",
       "      <td>128220.5962</td>\n",
       "      <td>5.5697</td>\n",
       "      <td>128220.5962</td>\n",
       "      <td>6.3397</td>\n",
       "      <td>8000.0531</td>\n",
       "    </tr>\n",
       "  </tbody>\n",
       "</table>"
      ],
      "text/plain": [
       "<IPython.core.display.HTML object>"
      ]
     },
     "execution_count": 10,
     "metadata": {},
     "output_type": "execute_result"
    }
   ],
   "source": [
    "from IPython.display import display, HTML\n",
    "import pandas\n",
    "pandas.set_option(\"display.max_rows\", None, \"display.max_columns\", None)\n",
    "df = pandas.read_csv('runs.txt', sep=' ', comment='#')\n",
    "df.style.set_properties(**{'max-width': '200px', 'font-size': '15pt'})\n",
    "HTML(df.to_html(index=False))"
   ]
  },
  {
   "cell_type": "code",
   "execution_count": null,
   "id": "a41eed2a-c069-4a1f-b7e7-a46eeaedaf1e",
   "metadata": {},
   "outputs": [],
   "source": []
  },
  {
   "cell_type": "code",
   "execution_count": null,
   "id": "d4d7180d-3f1d-4bc5-b140-badd2bf12d0a",
   "metadata": {},
   "outputs": [],
   "source": []
  }
 ],
 "metadata": {
  "kernelspec": {
   "display_name": "Python 3 (ipykernel)",
   "language": "python",
   "name": "python3"
  },
  "language_info": {
   "codemirror_mode": {
    "name": "ipython",
    "version": 3
   },
   "file_extension": ".py",
   "mimetype": "text/x-python",
   "name": "python",
   "nbconvert_exporter": "python",
   "pygments_lexer": "ipython3",
   "version": "3.11.8"
  }
 },
 "nbformat": 4,
 "nbformat_minor": 5
}
