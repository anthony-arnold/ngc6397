version https://git-lfs.github.com/spec/v1
oid sha256:6dc3ea2816e850ae0701e059b7a1dd52901433172a5f2bcce048eed44c3e219d
size 541158
