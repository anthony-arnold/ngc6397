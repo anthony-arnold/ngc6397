{
 "cells": [
  {
   "cell_type": "code",
   "execution_count": 1,
   "id": "b72e147a-1b09-46e4-be59-13e69be7e972",
   "metadata": {},
   "outputs": [
    {
     "name": "stdout",
     "output_type": "stream",
     "text": [
      "[2.58176645 1.87976941 1.92513629 2.69708963 1.53112091 1.08875796\n",
      " 2.3492428  2.62497212 3.08405742 1.50087324] pc\n",
      "0.5555555555555556\n"
     ]
    }
   ],
   "source": [
    "from astropy import units as u\n",
    "import numpy as np\n",
    "\n",
    "target = np.array([5924.070,   -903.105,   -514.322]) * u.parsec\n",
    "\n",
    "d = np.array([\n",
    "    [5924.832000, -900.720226, -514.952656],\n",
    "    [5924.622331, -901.358365, -514.743580],\n",
    "    [5924.612760, -901.260565, -514.223914],\n",
    "    [5924.803832, -900.554979, -513.839117],\n",
    "    [5924.319708, -901.796703, -513.566794],\n",
    "    [5924.129552, -902.259108, -513.639128],\n",
    "    [5924.808360, -900.900771, -514.661324],\n",
    "    [5924.901554, -900.845486, -515.367750],\n",
    "    [5925.097196, -900.369181, -515.307684],\n",
    "    [5924.564691, -901.703648, -514.532033],\n",
    "])* u.parsec\n",
    "\n",
    "diff = d-target\n",
    "\n",
    "print(np.sqrt(np.sum(diff**2, axis=1)))\n",
    "\n",
    "\n",
    "print((2000 * u.arcsec).to_value(u.deg))"
   ]
  },
  {
   "cell_type": "code",
   "execution_count": null,
   "id": "332e90cb-e830-49e8-b382-92cade14b6e9",
   "metadata": {},
   "outputs": [],
   "source": []
  }
 ],
 "metadata": {
  "kernelspec": {
   "display_name": "Python 3 (ipykernel)",
   "language": "python",
   "name": "python3"
  },
  "language_info": {
   "codemirror_mode": {
    "name": "ipython",
    "version": 3
   },
   "file_extension": ".py",
   "mimetype": "text/x-python",
   "name": "python",
   "nbconvert_exporter": "python",
   "pygments_lexer": "ipython3",
   "version": "3.12.4"
  }
 },
 "nbformat": 4,
 "nbformat_minor": 5
}
